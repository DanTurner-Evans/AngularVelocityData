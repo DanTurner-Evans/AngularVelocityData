


import scipy.io
import matplotlib.pyplot as plt
import numpy as np
import os





import pandas as pd

def mat2DF(mat):

    # convert the matlab object entries to arrays
    [t, tVR, tFrameGrab, OffsetRot, OffsetFor, OffsetLat] = getArrayFromMatObj(mat)
    
    # get imaging parameters
    [num_planes, minFG, maxFG] = getImParams(t,tVR,tFrameGrab,mat)
    
    # Match the position data to the framegrab times
    OffsetRotMatch = np.zeros((maxFG-minFG+1,2))
    OffsetForMatch = np.zeros(maxFG-minFG+1)
    OffsetLatMatch = np.zeros(maxFG-minFG+1)
    for interp in range(minFG,maxFG):
        tMatch = np.where(t >= (t[0] + (tFrameGrab[(interp-1)*num_planes]-tVR[0])/10000))[0]
        OffsetRotMatch[interp-minFG,0] = t[tMatch[0]]
        OffsetRotMatch[interp-minFG,1] = np.pi/180*OffsetRot[tMatch[0]]
        OffsetForMatch[interp-minFG] = OffsetFor[tMatch[0]]
        OffsetLatMatch[interp-minFG] = OffsetLat[tMatch[0]]

    DF = pd.DataFrame({'t':OffsetRotMatch[:,0],
                       'angle':OffsetRotMatch[:,1],
                       'forward position':OffsetForMatch,
                       'lateral position':OffsetLatMatch})
    for r in range(mat['GROIaveMax'].shape[0]):
        DF['roi ' + str(r) + ' Green'] = mat['GROIaveMax'][r,minFG:(maxFG+1)]
    for r in range(mat['RROIaveMax'].shape[0]):
        DF['roi ' + str(r) + ' Red'] = mat['RROIaveMax'][r,minFG:(maxFG+1)]

    return DF

def getArrayFromMatObj(mat):
    t = [a[0] for a in mat['positionDat']['t'][0][0]]
    tVR = mat['positionDat']['tVR'][0][0][0]
    tFrameGrab = mat['positionDat']['tFrameGrab'][0][0][0]  
    OffsetRot = [a[0] for a in mat['positionDat']['OffsetRot'][0][0]]
    OffsetFor = [a[0] for a in mat['positionDat']['OffsetFor'][0][0]]
    OffsetLat = [a[0] for a in mat['positionDat']['OffsetLat'][0][0]]

    return [t, tVR, tFrameGrab, OffsetRot, OffsetFor, OffsetLat]

def getImParams(t,tVR,tFrameGrab,mat):
    num_planes = int(len(tFrameGrab)/mat['GROIaveMax'].shape[1])
    minFG = int(np.ceil(np.min(np.where(tFrameGrab >= tVR[0]))/num_planes))
    maxFG = int(np.round(len(tFrameGrab)/num_planes))

    return [num_planes, minFG, maxFG]





parent_dirs = ['PEN1-EB','PEN1-PB']
for d in parent_dirs:
    dates = [dt for dt in os.listdir(os.path.join('./data',d)) if not dt.startswith('.')]
    for dt in dates:
        files = os.listdir(os.path.join('./data',d,dt))
        for f in files:
            mat = scipy.io.loadmat(os.path.join('./data',d,dt,f))
            DF = mat2DF(mat)


mat = scipy.io.loadmat('Fly1_9day_6fx37F06_jRGC1ax60D05_1x_00001.mat')





OffsetRotMatch.shape


fig, axs = plt.subplots(nrows=3)

axs[0].imshow(mat['GROIaveMax'][:,minFG:maxFG], aspect=5)
axs[1].imshow(mat['RROIaveMax'][:,minFG:maxFG], aspect=5)
axs[2].plot(OffsetRotMatch[:,0],-OffsetRotMatch[:,1])
